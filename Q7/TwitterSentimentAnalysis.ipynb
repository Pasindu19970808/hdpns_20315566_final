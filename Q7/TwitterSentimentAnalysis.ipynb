{
 "cells": [
  {
   "cell_type": "code",
   "execution_count": 46,
   "metadata": {},
   "outputs": [],
   "source": [
    "import os\n",
    "import numpy as np\n",
    "import pandas as pd\n",
    "from collections import Counter\n",
    "import matplotlib.pyplot as plt\n",
    "import seaborn as sns\n",
    "import re\n",
    "from bs4 import BeautifulSoup\n",
    "import nltk\n",
    "import preprocessor as p"
   ]
  },
  {
   "cell_type": "code",
   "execution_count": 47,
   "metadata": {},
   "outputs": [
    {
     "name": "stderr",
     "output_type": "stream",
     "text": [
      "[nltk_data] Downloading package wordnet to\n",
      "[nltk_data]     C:\\Users\\ASUS\\AppData\\Roaming\\nltk_data...\n",
      "[nltk_data]   Package wordnet is already up-to-date!\n",
      "[nltk_data] Downloading package stopwords to\n",
      "[nltk_data]     C:\\Users\\ASUS\\AppData\\Roaming\\nltk_data...\n",
      "[nltk_data]   Unzipping corpora\\stopwords.zip.\n"
     ]
    },
    {
     "data": {
      "text/plain": [
       "True"
      ]
     },
     "execution_count": 47,
     "metadata": {},
     "output_type": "execute_result"
    }
   ],
   "source": [
    "nltk.download('wordnet')\n",
    "nltk.download('stopwords')"
   ]
  },
  {
   "cell_type": "code",
   "execution_count": 2,
   "metadata": {},
   "outputs": [],
   "source": [
    "filepath_test = os.path.join(os.getcwd(),os.listdir()[0])\n",
    "filepath_training = os.path.join(os.getcwd(),os.listdir()[1])"
   ]
  },
  {
   "cell_type": "code",
   "execution_count": 3,
   "metadata": {},
   "outputs": [],
   "source": [
    "test_data = pd.read_csv(filepath_test, header = None)\n",
    "train_data = pd.read_csv(filepath_training, header = None, encoding = 'ISO-8859-1')"
   ]
  },
  {
   "cell_type": "code",
   "execution_count": 4,
   "metadata": {},
   "outputs": [
    {
     "data": {
      "text/html": [
       "<div>\n",
       "<style scoped>\n",
       "    .dataframe tbody tr th:only-of-type {\n",
       "        vertical-align: middle;\n",
       "    }\n",
       "\n",
       "    .dataframe tbody tr th {\n",
       "        vertical-align: top;\n",
       "    }\n",
       "\n",
       "    .dataframe thead th {\n",
       "        text-align: right;\n",
       "    }\n",
       "</style>\n",
       "<table border=\"1\" class=\"dataframe\">\n",
       "  <thead>\n",
       "    <tr style=\"text-align: right;\">\n",
       "      <th></th>\n",
       "      <th>0</th>\n",
       "      <th>1</th>\n",
       "      <th>2</th>\n",
       "      <th>3</th>\n",
       "      <th>4</th>\n",
       "      <th>5</th>\n",
       "    </tr>\n",
       "  </thead>\n",
       "  <tbody>\n",
       "    <tr>\n",
       "      <th>0</th>\n",
       "      <td>0</td>\n",
       "      <td>1467810369</td>\n",
       "      <td>Mon Apr 06 22:19:45 PDT 2009</td>\n",
       "      <td>NO_QUERY</td>\n",
       "      <td>_TheSpecialOne_</td>\n",
       "      <td>@switchfoot http://twitpic.com/2y1zl - Awww, t...</td>\n",
       "    </tr>\n",
       "    <tr>\n",
       "      <th>1</th>\n",
       "      <td>0</td>\n",
       "      <td>1467810672</td>\n",
       "      <td>Mon Apr 06 22:19:49 PDT 2009</td>\n",
       "      <td>NO_QUERY</td>\n",
       "      <td>scotthamilton</td>\n",
       "      <td>is upset that he can't update his Facebook by ...</td>\n",
       "    </tr>\n",
       "    <tr>\n",
       "      <th>2</th>\n",
       "      <td>0</td>\n",
       "      <td>1467810917</td>\n",
       "      <td>Mon Apr 06 22:19:53 PDT 2009</td>\n",
       "      <td>NO_QUERY</td>\n",
       "      <td>mattycus</td>\n",
       "      <td>@Kenichan I dived many times for the ball. Man...</td>\n",
       "    </tr>\n",
       "    <tr>\n",
       "      <th>3</th>\n",
       "      <td>0</td>\n",
       "      <td>1467811184</td>\n",
       "      <td>Mon Apr 06 22:19:57 PDT 2009</td>\n",
       "      <td>NO_QUERY</td>\n",
       "      <td>ElleCTF</td>\n",
       "      <td>my whole body feels itchy and like its on fire</td>\n",
       "    </tr>\n",
       "    <tr>\n",
       "      <th>4</th>\n",
       "      <td>0</td>\n",
       "      <td>1467811193</td>\n",
       "      <td>Mon Apr 06 22:19:57 PDT 2009</td>\n",
       "      <td>NO_QUERY</td>\n",
       "      <td>Karoli</td>\n",
       "      <td>@nationwideclass no, it's not behaving at all....</td>\n",
       "    </tr>\n",
       "    <tr>\n",
       "      <th>...</th>\n",
       "      <td>...</td>\n",
       "      <td>...</td>\n",
       "      <td>...</td>\n",
       "      <td>...</td>\n",
       "      <td>...</td>\n",
       "      <td>...</td>\n",
       "    </tr>\n",
       "    <tr>\n",
       "      <th>1599995</th>\n",
       "      <td>4</td>\n",
       "      <td>2193601966</td>\n",
       "      <td>Tue Jun 16 08:40:49 PDT 2009</td>\n",
       "      <td>NO_QUERY</td>\n",
       "      <td>AmandaMarie1028</td>\n",
       "      <td>Just woke up. Having no school is the best fee...</td>\n",
       "    </tr>\n",
       "    <tr>\n",
       "      <th>1599996</th>\n",
       "      <td>4</td>\n",
       "      <td>2193601969</td>\n",
       "      <td>Tue Jun 16 08:40:49 PDT 2009</td>\n",
       "      <td>NO_QUERY</td>\n",
       "      <td>TheWDBoards</td>\n",
       "      <td>TheWDB.com - Very cool to hear old Walt interv...</td>\n",
       "    </tr>\n",
       "    <tr>\n",
       "      <th>1599997</th>\n",
       "      <td>4</td>\n",
       "      <td>2193601991</td>\n",
       "      <td>Tue Jun 16 08:40:49 PDT 2009</td>\n",
       "      <td>NO_QUERY</td>\n",
       "      <td>bpbabe</td>\n",
       "      <td>Are you ready for your MoJo Makeover? Ask me f...</td>\n",
       "    </tr>\n",
       "    <tr>\n",
       "      <th>1599998</th>\n",
       "      <td>4</td>\n",
       "      <td>2193602064</td>\n",
       "      <td>Tue Jun 16 08:40:49 PDT 2009</td>\n",
       "      <td>NO_QUERY</td>\n",
       "      <td>tinydiamondz</td>\n",
       "      <td>Happy 38th Birthday to my boo of alll time!!! ...</td>\n",
       "    </tr>\n",
       "    <tr>\n",
       "      <th>1599999</th>\n",
       "      <td>4</td>\n",
       "      <td>2193602129</td>\n",
       "      <td>Tue Jun 16 08:40:50 PDT 2009</td>\n",
       "      <td>NO_QUERY</td>\n",
       "      <td>RyanTrevMorris</td>\n",
       "      <td>happy #charitytuesday @theNSPCC @SparksCharity...</td>\n",
       "    </tr>\n",
       "  </tbody>\n",
       "</table>\n",
       "<p>1600000 rows × 6 columns</p>\n",
       "</div>"
      ],
      "text/plain": [
       "         0           1                             2         3  \\\n",
       "0        0  1467810369  Mon Apr 06 22:19:45 PDT 2009  NO_QUERY   \n",
       "1        0  1467810672  Mon Apr 06 22:19:49 PDT 2009  NO_QUERY   \n",
       "2        0  1467810917  Mon Apr 06 22:19:53 PDT 2009  NO_QUERY   \n",
       "3        0  1467811184  Mon Apr 06 22:19:57 PDT 2009  NO_QUERY   \n",
       "4        0  1467811193  Mon Apr 06 22:19:57 PDT 2009  NO_QUERY   \n",
       "...     ..         ...                           ...       ...   \n",
       "1599995  4  2193601966  Tue Jun 16 08:40:49 PDT 2009  NO_QUERY   \n",
       "1599996  4  2193601969  Tue Jun 16 08:40:49 PDT 2009  NO_QUERY   \n",
       "1599997  4  2193601991  Tue Jun 16 08:40:49 PDT 2009  NO_QUERY   \n",
       "1599998  4  2193602064  Tue Jun 16 08:40:49 PDT 2009  NO_QUERY   \n",
       "1599999  4  2193602129  Tue Jun 16 08:40:50 PDT 2009  NO_QUERY   \n",
       "\n",
       "                       4                                                  5  \n",
       "0        _TheSpecialOne_  @switchfoot http://twitpic.com/2y1zl - Awww, t...  \n",
       "1          scotthamilton  is upset that he can't update his Facebook by ...  \n",
       "2               mattycus  @Kenichan I dived many times for the ball. Man...  \n",
       "3                ElleCTF    my whole body feels itchy and like its on fire   \n",
       "4                 Karoli  @nationwideclass no, it's not behaving at all....  \n",
       "...                  ...                                                ...  \n",
       "1599995  AmandaMarie1028  Just woke up. Having no school is the best fee...  \n",
       "1599996      TheWDBoards  TheWDB.com - Very cool to hear old Walt interv...  \n",
       "1599997           bpbabe  Are you ready for your MoJo Makeover? Ask me f...  \n",
       "1599998     tinydiamondz  Happy 38th Birthday to my boo of alll time!!! ...  \n",
       "1599999   RyanTrevMorris  happy #charitytuesday @theNSPCC @SparksCharity...  \n",
       "\n",
       "[1600000 rows x 6 columns]"
      ]
     },
     "execution_count": 4,
     "metadata": {},
     "output_type": "execute_result"
    }
   ],
   "source": [
    "train_data"
   ]
  },
  {
   "cell_type": "code",
   "execution_count": 5,
   "metadata": {},
   "outputs": [],
   "source": [
    "count = Counter()\n",
    "count.update(train_data[0])"
   ]
  },
  {
   "cell_type": "code",
   "execution_count": 6,
   "metadata": {},
   "outputs": [],
   "source": [
    "keys = list(count.keys())\n",
    "values = [count[i] for i in keys]"
   ]
  },
  {
   "cell_type": "code",
   "execution_count": 7,
   "metadata": {},
   "outputs": [
    {
     "data": {
      "text/plain": [
       "Text(0.5, 1.0, 'Target Distribution')"
      ]
     },
     "execution_count": 7,
     "metadata": {},
     "output_type": "execute_result"
    },
    {
     "data": {
      "image/png": "[encoded data removed]",
      "text/plain": [
       "<Figure size 720x720 with 1 Axes>"
      ]
     },
     "metadata": {
      "needs_background": "light"
     },
     "output_type": "display_data"
    }
   ],
   "source": [
    "fig,ax = plt.subplots(1,1,figsize = (10,10))\n",
    "ax.bar(keys,values)\n",
    "ax.set_title('Target Distribution')"
   ]
  },
  {
   "cell_type": "markdown",
   "metadata": {},
   "source": [
    "<h3>Drop Tweet ID and Flag</h3>\n",
    "\n",
    "- Flag has only one value for everything hence it will be dropped\n",
    "- Tweet ID has nothing that adds more"
   ]
  },
  {
   "cell_type": "code",
   "execution_count": 8,
   "metadata": {},
   "outputs": [],
   "source": [
    "#Drop off Tweet ID and Flag\n",
    "train_data.drop([1,3],axis = 1,inplace=True)"
   ]
  },
  {
   "cell_type": "code",
   "execution_count": 9,
   "metadata": {},
   "outputs": [
    {
     "data": {
      "text/html": [
       "<div>\n",
       "<style scoped>\n",
       "    .dataframe tbody tr th:only-of-type {\n",
       "        vertical-align: middle;\n",
       "    }\n",
       "\n",
       "    .dataframe tbody tr th {\n",
       "        vertical-align: top;\n",
       "    }\n",
       "\n",
       "    .dataframe thead th {\n",
       "        text-align: right;\n",
       "    }\n",
       "</style>\n",
       "<table border=\"1\" class=\"dataframe\">\n",
       "  <thead>\n",
       "    <tr style=\"text-align: right;\">\n",
       "      <th></th>\n",
       "      <th>0</th>\n",
       "      <th>2</th>\n",
       "      <th>4</th>\n",
       "      <th>5</th>\n",
       "    </tr>\n",
       "  </thead>\n",
       "  <tbody>\n",
       "    <tr>\n",
       "      <th>0</th>\n",
       "      <td>0</td>\n",
       "      <td>Mon Apr 06 22:19:45 PDT 2009</td>\n",
       "      <td>_TheSpecialOne_</td>\n",
       "      <td>@switchfoot http://twitpic.com/2y1zl - Awww, t...</td>\n",
       "    </tr>\n",
       "    <tr>\n",
       "      <th>1</th>\n",
       "      <td>0</td>\n",
       "      <td>Mon Apr 06 22:19:49 PDT 2009</td>\n",
       "      <td>scotthamilton</td>\n",
       "      <td>is upset that he can't update his Facebook by ...</td>\n",
       "    </tr>\n",
       "    <tr>\n",
       "      <th>2</th>\n",
       "      <td>0</td>\n",
       "      <td>Mon Apr 06 22:19:53 PDT 2009</td>\n",
       "      <td>mattycus</td>\n",
       "      <td>@Kenichan I dived many times for the ball. Man...</td>\n",
       "    </tr>\n",
       "    <tr>\n",
       "      <th>3</th>\n",
       "      <td>0</td>\n",
       "      <td>Mon Apr 06 22:19:57 PDT 2009</td>\n",
       "      <td>ElleCTF</td>\n",
       "      <td>my whole body feels itchy and like its on fire</td>\n",
       "    </tr>\n",
       "    <tr>\n",
       "      <th>4</th>\n",
       "      <td>0</td>\n",
       "      <td>Mon Apr 06 22:19:57 PDT 2009</td>\n",
       "      <td>Karoli</td>\n",
       "      <td>@nationwideclass no, it's not behaving at all....</td>\n",
       "    </tr>\n",
       "    <tr>\n",
       "      <th>...</th>\n",
       "      <td>...</td>\n",
       "      <td>...</td>\n",
       "      <td>...</td>\n",
       "      <td>...</td>\n",
       "    </tr>\n",
       "    <tr>\n",
       "      <th>1599995</th>\n",
       "      <td>4</td>\n",
       "      <td>Tue Jun 16 08:40:49 PDT 2009</td>\n",
       "      <td>AmandaMarie1028</td>\n",
       "      <td>Just woke up. Having no school is the best fee...</td>\n",
       "    </tr>\n",
       "    <tr>\n",
       "      <th>1599996</th>\n",
       "      <td>4</td>\n",
       "      <td>Tue Jun 16 08:40:49 PDT 2009</td>\n",
       "      <td>TheWDBoards</td>\n",
       "      <td>TheWDB.com - Very cool to hear old Walt interv...</td>\n",
       "    </tr>\n",
       "    <tr>\n",
       "      <th>1599997</th>\n",
       "      <td>4</td>\n",
       "      <td>Tue Jun 16 08:40:49 PDT 2009</td>\n",
       "      <td>bpbabe</td>\n",
       "      <td>Are you ready for your MoJo Makeover? Ask me f...</td>\n",
       "    </tr>\n",
       "    <tr>\n",
       "      <th>1599998</th>\n",
       "      <td>4</td>\n",
       "      <td>Tue Jun 16 08:40:49 PDT 2009</td>\n",
       "      <td>tinydiamondz</td>\n",
       "      <td>Happy 38th Birthday to my boo of alll time!!! ...</td>\n",
       "    </tr>\n",
       "    <tr>\n",
       "      <th>1599999</th>\n",
       "      <td>4</td>\n",
       "      <td>Tue Jun 16 08:40:50 PDT 2009</td>\n",
       "      <td>RyanTrevMorris</td>\n",
       "      <td>happy #charitytuesday @theNSPCC @SparksCharity...</td>\n",
       "    </tr>\n",
       "  </tbody>\n",
       "</table>\n",
       "<p>1600000 rows × 4 columns</p>\n",
       "</div>"
      ],
      "text/plain": [
       "         0                             2                4  \\\n",
       "0        0  Mon Apr 06 22:19:45 PDT 2009  _TheSpecialOne_   \n",
       "1        0  Mon Apr 06 22:19:49 PDT 2009    scotthamilton   \n",
       "2        0  Mon Apr 06 22:19:53 PDT 2009         mattycus   \n",
       "3        0  Mon Apr 06 22:19:57 PDT 2009          ElleCTF   \n",
       "4        0  Mon Apr 06 22:19:57 PDT 2009           Karoli   \n",
       "...     ..                           ...              ...   \n",
       "1599995  4  Tue Jun 16 08:40:49 PDT 2009  AmandaMarie1028   \n",
       "1599996  4  Tue Jun 16 08:40:49 PDT 2009      TheWDBoards   \n",
       "1599997  4  Tue Jun 16 08:40:49 PDT 2009           bpbabe   \n",
       "1599998  4  Tue Jun 16 08:40:49 PDT 2009     tinydiamondz   \n",
       "1599999  4  Tue Jun 16 08:40:50 PDT 2009   RyanTrevMorris   \n",
       "\n",
       "                                                         5  \n",
       "0        @switchfoot http://twitpic.com/2y1zl - Awww, t...  \n",
       "1        is upset that he can't update his Facebook by ...  \n",
       "2        @Kenichan I dived many times for the ball. Man...  \n",
       "3          my whole body feels itchy and like its on fire   \n",
       "4        @nationwideclass no, it's not behaving at all....  \n",
       "...                                                    ...  \n",
       "1599995  Just woke up. Having no school is the best fee...  \n",
       "1599996  TheWDB.com - Very cool to hear old Walt interv...  \n",
       "1599997  Are you ready for your MoJo Makeover? Ask me f...  \n",
       "1599998  Happy 38th Birthday to my boo of alll time!!! ...  \n",
       "1599999  happy #charitytuesday @theNSPCC @SparksCharity...  \n",
       "\n",
       "[1600000 rows x 4 columns]"
      ]
     },
     "execution_count": 9,
     "metadata": {},
     "output_type": "execute_result"
    }
   ],
   "source": [
    "train_data"
   ]
  },
  {
   "cell_type": "code",
   "execution_count": 10,
   "metadata": {},
   "outputs": [
    {
     "data": {
      "text/html": [
       "<div>\n",
       "<style scoped>\n",
       "    .dataframe tbody tr th:only-of-type {\n",
       "        vertical-align: middle;\n",
       "    }\n",
       "\n",
       "    .dataframe tbody tr th {\n",
       "        vertical-align: top;\n",
       "    }\n",
       "\n",
       "    .dataframe thead th {\n",
       "        text-align: right;\n",
       "    }\n",
       "</style>\n",
       "<table border=\"1\" class=\"dataframe\">\n",
       "  <thead>\n",
       "    <tr style=\"text-align: right;\">\n",
       "      <th></th>\n",
       "      <th>Target</th>\n",
       "      <th>Time/date</th>\n",
       "      <th>User</th>\n",
       "      <th>Tweet</th>\n",
       "    </tr>\n",
       "  </thead>\n",
       "  <tbody>\n",
       "    <tr>\n",
       "      <th>0</th>\n",
       "      <td>0</td>\n",
       "      <td>Mon Apr 06 22:19:45 PDT 2009</td>\n",
       "      <td>_TheSpecialOne_</td>\n",
       "      <td>@switchfoot http://twitpic.com/2y1zl - Awww, t...</td>\n",
       "    </tr>\n",
       "    <tr>\n",
       "      <th>1</th>\n",
       "      <td>0</td>\n",
       "      <td>Mon Apr 06 22:19:49 PDT 2009</td>\n",
       "      <td>scotthamilton</td>\n",
       "      <td>is upset that he can't update his Facebook by ...</td>\n",
       "    </tr>\n",
       "    <tr>\n",
       "      <th>2</th>\n",
       "      <td>0</td>\n",
       "      <td>Mon Apr 06 22:19:53 PDT 2009</td>\n",
       "      <td>mattycus</td>\n",
       "      <td>@Kenichan I dived many times for the ball. Man...</td>\n",
       "    </tr>\n",
       "    <tr>\n",
       "      <th>3</th>\n",
       "      <td>0</td>\n",
       "      <td>Mon Apr 06 22:19:57 PDT 2009</td>\n",
       "      <td>ElleCTF</td>\n",
       "      <td>my whole body feels itchy and like its on fire</td>\n",
       "    </tr>\n",
       "    <tr>\n",
       "      <th>4</th>\n",
       "      <td>0</td>\n",
       "      <td>Mon Apr 06 22:19:57 PDT 2009</td>\n",
       "      <td>Karoli</td>\n",
       "      <td>@nationwideclass no, it's not behaving at all....</td>\n",
       "    </tr>\n",
       "    <tr>\n",
       "      <th>...</th>\n",
       "      <td>...</td>\n",
       "      <td>...</td>\n",
       "      <td>...</td>\n",
       "      <td>...</td>\n",
       "    </tr>\n",
       "    <tr>\n",
       "      <th>1599995</th>\n",
       "      <td>4</td>\n",
       "      <td>Tue Jun 16 08:40:49 PDT 2009</td>\n",
       "      <td>AmandaMarie1028</td>\n",
       "      <td>Just woke up. Having no school is the best fee...</td>\n",
       "    </tr>\n",
       "    <tr>\n",
       "      <th>1599996</th>\n",
       "      <td>4</td>\n",
       "      <td>Tue Jun 16 08:40:49 PDT 2009</td>\n",
       "      <td>TheWDBoards</td>\n",
       "      <td>TheWDB.com - Very cool to hear old Walt interv...</td>\n",
       "    </tr>\n",
       "    <tr>\n",
       "      <th>1599997</th>\n",
       "      <td>4</td>\n",
       "      <td>Tue Jun 16 08:40:49 PDT 2009</td>\n",
       "      <td>bpbabe</td>\n",
       "      <td>Are you ready for your MoJo Makeover? Ask me f...</td>\n",
       "    </tr>\n",
       "    <tr>\n",
       "      <th>1599998</th>\n",
       "      <td>4</td>\n",
       "      <td>Tue Jun 16 08:40:49 PDT 2009</td>\n",
       "      <td>tinydiamondz</td>\n",
       "      <td>Happy 38th Birthday to my boo of alll time!!! ...</td>\n",
       "    </tr>\n",
       "    <tr>\n",
       "      <th>1599999</th>\n",
       "      <td>4</td>\n",
       "      <td>Tue Jun 16 08:40:50 PDT 2009</td>\n",
       "      <td>RyanTrevMorris</td>\n",
       "      <td>happy #charitytuesday @theNSPCC @SparksCharity...</td>\n",
       "    </tr>\n",
       "  </tbody>\n",
       "</table>\n",
       "<p>1600000 rows × 4 columns</p>\n",
       "</div>"
      ],
      "text/plain": [
       "         Target                     Time/date             User  \\\n",
       "0             0  Mon Apr 06 22:19:45 PDT 2009  _TheSpecialOne_   \n",
       "1             0  Mon Apr 06 22:19:49 PDT 2009    scotthamilton   \n",
       "2             0  Mon Apr 06 22:19:53 PDT 2009         mattycus   \n",
       "3             0  Mon Apr 06 22:19:57 PDT 2009          ElleCTF   \n",
       "4             0  Mon Apr 06 22:19:57 PDT 2009           Karoli   \n",
       "...         ...                           ...              ...   \n",
       "1599995       4  Tue Jun 16 08:40:49 PDT 2009  AmandaMarie1028   \n",
       "1599996       4  Tue Jun 16 08:40:49 PDT 2009      TheWDBoards   \n",
       "1599997       4  Tue Jun 16 08:40:49 PDT 2009           bpbabe   \n",
       "1599998       4  Tue Jun 16 08:40:49 PDT 2009     tinydiamondz   \n",
       "1599999       4  Tue Jun 16 08:40:50 PDT 2009   RyanTrevMorris   \n",
       "\n",
       "                                                     Tweet  \n",
       "0        @switchfoot http://twitpic.com/2y1zl - Awww, t...  \n",
       "1        is upset that he can't update his Facebook by ...  \n",
       "2        @Kenichan I dived many times for the ball. Man...  \n",
       "3          my whole body feels itchy and like its on fire   \n",
       "4        @nationwideclass no, it's not behaving at all....  \n",
       "...                                                    ...  \n",
       "1599995  Just woke up. Having no school is the best fee...  \n",
       "1599996  TheWDB.com - Very cool to hear old Walt interv...  \n",
       "1599997  Are you ready for your MoJo Makeover? Ask me f...  \n",
       "1599998  Happy 38th Birthday to my boo of alll time!!! ...  \n",
       "1599999  happy #charitytuesday @theNSPCC @SparksCharity...  \n",
       "\n",
       "[1600000 rows x 4 columns]"
      ]
     },
     "execution_count": 10,
     "metadata": {},
     "output_type": "execute_result"
    }
   ],
   "source": [
    "columns = ['Target','Time/date','User','Tweet']\n",
    "train_data.columns = columns\n",
    "train_data"
   ]
  },
  {
   "cell_type": "markdown",
   "metadata": {},
   "source": [
    "Above dataset was processed using SparkSQL"
   ]
  },
  {
   "cell_type": "code",
   "execution_count": 24,
   "metadata": {},
   "outputs": [
    {
     "name": "stderr",
     "output_type": "stream",
     "text": [
      "C:\\Users\\ASUS\\AppData\\Roaming\\Python\\Python38\\site-packages\\IPython\\core\\interactiveshell.py:3437: FutureWarning: The error_bad_lines argument has been deprecated and will be removed in a future version.\n",
      "\n",
      "\n",
      "  exec(code_obj, self.user_global_ns, self.user_ns)\n",
      "b'Skipping line 1436: expected 6 fields, saw 7\\nSkipping line 10062: expected 6 fields, saw 7\\nSkipping line 13380: expected 6 fields, saw 7\\nSkipping line 26834: expected 6 fields, saw 8\\nSkipping line 36283: expected 6 fields, saw 7\\nSkipping line 38724: expected 6 fields, saw 7\\nSkipping line 38910: expected 6 fields, saw 8\\nSkipping line 40468: expected 6 fields, saw 9\\nSkipping line 49050: expected 6 fields, saw 7\\nSkipping line 52344: expected 6 fields, saw 7\\nSkipping line 65617: expected 6 fields, saw 7\\nSkipping line 71359: expected 6 fields, saw 7\\nSkipping line 82808: expected 6 fields, saw 7\\nSkipping line 82999: expected 6 fields, saw 14\\nSkipping line 83775: expected 6 fields, saw 7\\nSkipping line 87324: expected 6 fields, saw 7\\nSkipping line 89479: expected 6 fields, saw 7\\nSkipping line 93537: expected 6 fields, saw 8\\nSkipping line 93589: expected 6 fields, saw 9\\nSkipping line 95538: expected 6 fields, saw 9\\nSkipping line 102240: expected 6 fields, saw 7\\nSkipping line 102797: expected 6 fields, saw 7\\nSkipping line 103043: expected 6 fields, saw 7\\nSkipping line 106078: expected 6 fields, saw 7\\nSkipping line 106128: expected 6 fields, saw 7\\nSkipping line 111337: expected 6 fields, saw 7\\nSkipping line 120475: expected 6 fields, saw 7\\nSkipping line 122129: expected 6 fields, saw 7\\nSkipping line 124748: expected 6 fields, saw 9\\nSkipping line 125719: expected 6 fields, saw 7\\nSkipping line 129733: expected 6 fields, saw 7\\nSkipping line 130373: expected 6 fields, saw 7\\n'\n",
      "b'Skipping line 136327: expected 6 fields, saw 7\\nSkipping line 138781: expected 6 fields, saw 7\\nSkipping line 139860: expected 6 fields, saw 7\\nSkipping line 141507: expected 6 fields, saw 7\\nSkipping line 148699: expected 6 fields, saw 8\\nSkipping line 150929: expected 6 fields, saw 7\\nSkipping line 151286: expected 6 fields, saw 7\\nSkipping line 151611: expected 6 fields, saw 8\\nSkipping line 161443: expected 6 fields, saw 7\\nSkipping line 164046: expected 6 fields, saw 7\\nSkipping line 168625: expected 6 fields, saw 7\\nSkipping line 173485: expected 6 fields, saw 7\\nSkipping line 176056: expected 6 fields, saw 8\\nSkipping line 176737: expected 6 fields, saw 7\\nSkipping line 178734: expected 6 fields, saw 7\\nSkipping line 178901: expected 6 fields, saw 7\\nSkipping line 190406: expected 6 fields, saw 7\\nSkipping line 194272: expected 6 fields, saw 7\\nSkipping line 195650: expected 6 fields, saw 7\\nSkipping line 204480: expected 6 fields, saw 7\\nSkipping line 205230: expected 6 fields, saw 7\\nSkipping line 205319: expected 6 fields, saw 7\\nSkipping line 217617: expected 6 fields, saw 7\\nSkipping line 221360: expected 6 fields, saw 7\\nSkipping line 222455: expected 6 fields, saw 8\\nSkipping line 237326: expected 6 fields, saw 8\\nSkipping line 237559: expected 6 fields, saw 7\\nSkipping line 238486: expected 6 fields, saw 7\\nSkipping line 239607: expected 6 fields, saw 7\\nSkipping line 243686: expected 6 fields, saw 7\\nSkipping line 245871: expected 6 fields, saw 7\\nSkipping line 254208: expected 6 fields, saw 7\\n'\n",
      "b'Skipping line 263091: expected 6 fields, saw 8\\nSkipping line 268878: expected 6 fields, saw 8\\nSkipping line 279387: expected 6 fields, saw 7\\nSkipping line 289010: expected 6 fields, saw 7\\nSkipping line 291593: expected 6 fields, saw 7\\nSkipping line 298124: expected 6 fields, saw 8\\nSkipping line 314538: expected 6 fields, saw 7\\nSkipping line 315563: expected 6 fields, saw 7\\nSkipping line 320258: expected 6 fields, saw 7\\nSkipping line 326207: expected 6 fields, saw 7\\nSkipping line 327330: expected 6 fields, saw 8\\nSkipping line 328481: expected 6 fields, saw 7\\nSkipping line 342179: expected 6 fields, saw 7\\nSkipping line 347459: expected 6 fields, saw 7\\nSkipping line 364730: expected 6 fields, saw 8\\nSkipping line 369796: expected 6 fields, saw 7\\nSkipping line 380193: expected 6 fields, saw 7\\nSkipping line 390252: expected 6 fields, saw 7\\n'\n",
      "b'Skipping line 394321: expected 6 fields, saw 8\\nSkipping line 395926: expected 6 fields, saw 8\\nSkipping line 401339: expected 6 fields, saw 8\\nSkipping line 405537: expected 6 fields, saw 7\\nSkipping line 405600: expected 6 fields, saw 7\\nSkipping line 408880: expected 6 fields, saw 10\\nSkipping line 414989: expected 6 fields, saw 8\\nSkipping line 417119: expected 6 fields, saw 7\\nSkipping line 448668: expected 6 fields, saw 7\\nSkipping line 451763: expected 6 fields, saw 7\\nSkipping line 454375: expected 6 fields, saw 7\\nSkipping line 454901: expected 6 fields, saw 7\\nSkipping line 455471: expected 6 fields, saw 7\\nSkipping line 461129: expected 6 fields, saw 7\\nSkipping line 464223: expected 6 fields, saw 7\\nSkipping line 479319: expected 6 fields, saw 7\\nSkipping line 486157: expected 6 fields, saw 7\\nSkipping line 493831: expected 6 fields, saw 7\\nSkipping line 497004: expected 6 fields, saw 7\\nSkipping line 503157: expected 6 fields, saw 7\\nSkipping line 503623: expected 6 fields, saw 8\\nSkipping line 508194: expected 6 fields, saw 7\\nSkipping line 518566: expected 6 fields, saw 7\\nSkipping line 520461: expected 6 fields, saw 7\\nSkipping line 520960: expected 6 fields, saw 7\\n'\n",
      "b'Skipping line 530772: expected 6 fields, saw 7\\nSkipping line 533693: expected 6 fields, saw 7\\nSkipping line 536189: expected 6 fields, saw 7\\nSkipping line 543593: expected 6 fields, saw 8\\nSkipping line 544632: expected 6 fields, saw 7\\nSkipping line 546501: expected 6 fields, saw 7\\nSkipping line 547392: expected 6 fields, saw 7\\nSkipping line 554878: expected 6 fields, saw 8\\nSkipping line 556038: expected 6 fields, saw 7\\nSkipping line 558705: expected 6 fields, saw 7\\nSkipping line 560465: expected 6 fields, saw 7\\nSkipping line 568054: expected 6 fields, saw 7\\nSkipping line 574982: expected 6 fields, saw 7\\nSkipping line 576192: expected 6 fields, saw 7\\nSkipping line 582087: expected 6 fields, saw 8\\nSkipping line 585066: expected 6 fields, saw 7\\nSkipping line 598126: expected 6 fields, saw 7\\nSkipping line 599093: expected 6 fields, saw 9\\nSkipping line 601335: expected 6 fields, saw 7\\nSkipping line 603175: expected 6 fields, saw 7\\nSkipping line 603860: expected 6 fields, saw 7\\nSkipping line 621517: expected 6 fields, saw 7\\nSkipping line 624094: expected 6 fields, saw 7\\nSkipping line 627315: expected 6 fields, saw 8\\nSkipping line 631464: expected 6 fields, saw 8\\nSkipping line 631783: expected 6 fields, saw 7\\nSkipping line 634363: expected 6 fields, saw 7\\nSkipping line 638967: expected 6 fields, saw 7\\nSkipping line 644541: expected 6 fields, saw 7\\nSkipping line 644587: expected 6 fields, saw 7\\nSkipping line 650163: expected 6 fields, saw 7\\nSkipping line 650967: expected 6 fields, saw 7\\n'\n",
      "b'Skipping line 663817: expected 6 fields, saw 8\\nSkipping line 668236: expected 6 fields, saw 7\\nSkipping line 672494: expected 6 fields, saw 7\\nSkipping line 679656: expected 6 fields, saw 7\\nSkipping line 681479: expected 6 fields, saw 7\\nSkipping line 682857: expected 6 fields, saw 7\\nSkipping line 685284: expected 6 fields, saw 8\\nSkipping line 686213: expected 6 fields, saw 7\\nSkipping line 690143: expected 6 fields, saw 8\\nSkipping line 692317: expected 6 fields, saw 7\\nSkipping line 695854: expected 6 fields, saw 7\\nSkipping line 704141: expected 6 fields, saw 7\\nSkipping line 704160: expected 6 fields, saw 7\\nSkipping line 718315: expected 6 fields, saw 8\\nSkipping line 721411: expected 6 fields, saw 7\\nSkipping line 722150: expected 6 fields, saw 7\\nSkipping line 725606: expected 6 fields, saw 8\\nSkipping line 731614: expected 6 fields, saw 9\\nSkipping line 733249: expected 6 fields, saw 7\\nSkipping line 735503: expected 6 fields, saw 7\\nSkipping line 736673: expected 6 fields, saw 7\\nSkipping line 738773: expected 6 fields, saw 7\\nSkipping line 741575: expected 6 fields, saw 7\\nSkipping line 767842: expected 6 fields, saw 7\\nSkipping line 773081: expected 6 fields, saw 7\\nSkipping line 773809: expected 6 fields, saw 7\\nSkipping line 774583: expected 6 fields, saw 7\\nSkipping line 775162: expected 6 fields, saw 10\\nSkipping line 775771: expected 6 fields, saw 7\\nSkipping line 776074: expected 6 fields, saw 8\\nSkipping line 782382: expected 6 fields, saw 8\\n'\n",
      "b'Skipping line 806958: expected 6 fields, saw 7\\nSkipping line 809608: expected 6 fields, saw 7\\nSkipping line 818273: expected 6 fields, saw 7\\nSkipping line 827998: expected 6 fields, saw 7\\nSkipping line 829698: expected 6 fields, saw 7\\nSkipping line 830080: expected 6 fields, saw 7\\nSkipping line 833393: expected 6 fields, saw 7\\nSkipping line 837466: expected 6 fields, saw 7\\nSkipping line 845510: expected 6 fields, saw 7\\nSkipping line 868171: expected 6 fields, saw 7\\nSkipping line 871438: expected 6 fields, saw 7\\nSkipping line 878669: expected 6 fields, saw 7\\nSkipping line 907259: expected 6 fields, saw 7\\nSkipping line 908858: expected 6 fields, saw 7\\n'\n",
      "b'Skipping line 919582: expected 6 fields, saw 7\\nSkipping line 931041: expected 6 fields, saw 7\\nSkipping line 946641: expected 6 fields, saw 8\\nSkipping line 979895: expected 6 fields, saw 8\\nSkipping line 981116: expected 6 fields, saw 7\\nSkipping line 981379: expected 6 fields, saw 7\\nSkipping line 981671: expected 6 fields, saw 9\\nSkipping line 981717: expected 6 fields, saw 7\\nSkipping line 984014: expected 6 fields, saw 7\\nSkipping line 986333: expected 6 fields, saw 7\\nSkipping line 987730: expected 6 fields, saw 7\\nSkipping line 998125: expected 6 fields, saw 7\\nSkipping line 1006380: expected 6 fields, saw 8\\nSkipping line 1006866: expected 6 fields, saw 7\\nSkipping line 1008314: expected 6 fields, saw 7\\n'\n",
      "b'Skipping line 1076364: expected 6 fields, saw 7\\nSkipping line 1085372: expected 6 fields, saw 8\\nSkipping line 1087363: expected 6 fields, saw 7\\nSkipping line 1101262: expected 6 fields, saw 7\\nSkipping line 1115122: expected 6 fields, saw 7\\nSkipping line 1131964: expected 6 fields, saw 7\\nSkipping line 1140380: expected 6 fields, saw 7\\nSkipping line 1160091: expected 6 fields, saw 8\\nSkipping line 1163372: expected 6 fields, saw 7\\nSkipping line 1179007: expected 6 fields, saw 8\\n'\n",
      "b'Skipping line 1181545: expected 6 fields, saw 7\\nSkipping line 1188270: expected 6 fields, saw 8\\nSkipping line 1193054: expected 6 fields, saw 8\\nSkipping line 1204340: expected 6 fields, saw 7\\nSkipping line 1227401: expected 6 fields, saw 7\\nSkipping line 1231985: expected 6 fields, saw 7\\nSkipping line 1258770: expected 6 fields, saw 7\\nSkipping line 1267326: expected 6 fields, saw 7\\nSkipping line 1269981: expected 6 fields, saw 11\\nSkipping line 1274794: expected 6 fields, saw 8\\nSkipping line 1279819: expected 6 fields, saw 7\\nSkipping line 1299286: expected 6 fields, saw 8\\n'\n",
      "b'Skipping line 1319132: expected 6 fields, saw 7\\nSkipping line 1321663: expected 6 fields, saw 7\\nSkipping line 1328557: expected 6 fields, saw 8\\nSkipping line 1340419: expected 6 fields, saw 7\\nSkipping line 1360693: expected 6 fields, saw 7\\nSkipping line 1363187: expected 6 fields, saw 7\\nSkipping line 1375286: expected 6 fields, saw 7\\nSkipping line 1381814: expected 6 fields, saw 8\\nSkipping line 1382677: expected 6 fields, saw 7\\nSkipping line 1395035: expected 6 fields, saw 7\\nSkipping line 1399777: expected 6 fields, saw 7\\nSkipping line 1415792: expected 6 fields, saw 7\\nSkipping line 1424128: expected 6 fields, saw 7\\n'\n",
      "b'Skipping line 1442277: expected 6 fields, saw 7\\nSkipping line 1450780: expected 6 fields, saw 7\\nSkipping line 1450966: expected 6 fields, saw 7\\nSkipping line 1455792: expected 6 fields, saw 7\\nSkipping line 1458139: expected 6 fields, saw 7\\nSkipping line 1460707: expected 6 fields, saw 7\\nSkipping line 1470890: expected 6 fields, saw 7\\nSkipping line 1475867: expected 6 fields, saw 7\\nSkipping line 1483911: expected 6 fields, saw 7\\nSkipping line 1489735: expected 6 fields, saw 7\\nSkipping line 1490082: expected 6 fields, saw 7\\nSkipping line 1498610: expected 6 fields, saw 7\\nSkipping line 1500994: expected 6 fields, saw 7\\nSkipping line 1501560: expected 6 fields, saw 10\\nSkipping line 1506738: expected 6 fields, saw 7\\nSkipping line 1519277: expected 6 fields, saw 7\\nSkipping line 1522363: expected 6 fields, saw 7\\nSkipping line 1524806: expected 6 fields, saw 7\\nSkipping line 1550847: expected 6 fields, saw 7\\nSkipping line 1553554: expected 6 fields, saw 7\\nSkipping line 1563899: expected 6 fields, saw 7\\n'\n",
      "b'Skipping line 1590747: expected 6 fields, saw 7\\n'\n"
     ]
    },
    {
     "data": {
      "text/html": [
       "<div>\n",
       "<style scoped>\n",
       "    .dataframe tbody tr th:only-of-type {\n",
       "        vertical-align: middle;\n",
       "    }\n",
       "\n",
       "    .dataframe tbody tr th {\n",
       "        vertical-align: top;\n",
       "    }\n",
       "\n",
       "    .dataframe thead th {\n",
       "        text-align: right;\n",
       "    }\n",
       "</style>\n",
       "<table border=\"1\" class=\"dataframe\">\n",
       "  <thead>\n",
       "    <tr style=\"text-align: right;\">\n",
       "      <th></th>\n",
       "      <th>Target</th>\n",
       "      <th>UserID</th>\n",
       "      <th>Tweet</th>\n",
       "      <th>Date</th>\n",
       "      <th>Time</th>\n",
       "      <th>Tweet Length</th>\n",
       "    </tr>\n",
       "  </thead>\n",
       "  <tbody>\n",
       "    <tr>\n",
       "      <th>0</th>\n",
       "      <td>0</td>\n",
       "      <td>_TheSpecialOne_</td>\n",
       "      <td>@switchfoot http://twitpic.com/2y1zl - Awww, t...</td>\n",
       "      <td>06 Apr 2009</td>\n",
       "      <td>22:19:45</td>\n",
       "      <td>115</td>\n",
       "    </tr>\n",
       "    <tr>\n",
       "      <th>1</th>\n",
       "      <td>0</td>\n",
       "      <td>scotthamilton</td>\n",
       "      <td>is upset that he can't update his Facebook by ...</td>\n",
       "      <td>06 Apr 2009</td>\n",
       "      <td>22:19:49</td>\n",
       "      <td>111</td>\n",
       "    </tr>\n",
       "    <tr>\n",
       "      <th>2</th>\n",
       "      <td>0</td>\n",
       "      <td>mattycus</td>\n",
       "      <td>@Kenichan I dived many times for the ball. Man...</td>\n",
       "      <td>06 Apr 2009</td>\n",
       "      <td>22:19:53</td>\n",
       "      <td>89</td>\n",
       "    </tr>\n",
       "    <tr>\n",
       "      <th>3</th>\n",
       "      <td>0</td>\n",
       "      <td>ElleCTF</td>\n",
       "      <td>my whole body feels itchy and like its on fire</td>\n",
       "      <td>06 Apr 2009</td>\n",
       "      <td>22:19:57</td>\n",
       "      <td>47</td>\n",
       "    </tr>\n",
       "    <tr>\n",
       "      <th>4</th>\n",
       "      <td>0</td>\n",
       "      <td>Karoli</td>\n",
       "      <td>@nationwideclass no, it's not behaving at all....</td>\n",
       "      <td>06 Apr 2009</td>\n",
       "      <td>22:19:57</td>\n",
       "      <td>111</td>\n",
       "    </tr>\n",
       "    <tr>\n",
       "      <th>...</th>\n",
       "      <td>...</td>\n",
       "      <td>...</td>\n",
       "      <td>...</td>\n",
       "      <td>...</td>\n",
       "      <td>...</td>\n",
       "      <td>...</td>\n",
       "    </tr>\n",
       "    <tr>\n",
       "      <th>1598546</th>\n",
       "      <td>4</td>\n",
       "      <td>AmandaMarie1028</td>\n",
       "      <td>Just woke up. Having no school is the best fee...</td>\n",
       "      <td>16 Jun 2009</td>\n",
       "      <td>08:40:49</td>\n",
       "      <td>56</td>\n",
       "    </tr>\n",
       "    <tr>\n",
       "      <th>1598547</th>\n",
       "      <td>4</td>\n",
       "      <td>TheWDBoards</td>\n",
       "      <td>TheWDB.com - Very cool to hear old Walt interv...</td>\n",
       "      <td>16 Jun 2009</td>\n",
       "      <td>08:40:49</td>\n",
       "      <td>76</td>\n",
       "    </tr>\n",
       "    <tr>\n",
       "      <th>1598548</th>\n",
       "      <td>4</td>\n",
       "      <td>bpbabe</td>\n",
       "      <td>Are you ready for your MoJo Makeover? Ask me f...</td>\n",
       "      <td>16 Jun 2009</td>\n",
       "      <td>08:40:49</td>\n",
       "      <td>57</td>\n",
       "    </tr>\n",
       "    <tr>\n",
       "      <th>1598549</th>\n",
       "      <td>4</td>\n",
       "      <td>tinydiamondz</td>\n",
       "      <td>Happy 38th Birthday to my boo of alll time!!! ...</td>\n",
       "      <td>16 Jun 2009</td>\n",
       "      <td>08:40:49</td>\n",
       "      <td>65</td>\n",
       "    </tr>\n",
       "    <tr>\n",
       "      <th>1598550</th>\n",
       "      <td>4</td>\n",
       "      <td>RyanTrevMorris</td>\n",
       "      <td>happy #charitytuesday @theNSPCC @SparksCharity...</td>\n",
       "      <td>16 Jun 2009</td>\n",
       "      <td>08:40:50</td>\n",
       "      <td>62</td>\n",
       "    </tr>\n",
       "  </tbody>\n",
       "</table>\n",
       "<p>1598551 rows × 6 columns</p>\n",
       "</div>"
      ],
      "text/plain": [
       "         Target           UserID  \\\n",
       "0             0  _TheSpecialOne_   \n",
       "1             0    scotthamilton   \n",
       "2             0         mattycus   \n",
       "3             0          ElleCTF   \n",
       "4             0           Karoli   \n",
       "...         ...              ...   \n",
       "1598546       4  AmandaMarie1028   \n",
       "1598547       4      TheWDBoards   \n",
       "1598548       4           bpbabe   \n",
       "1598549       4     tinydiamondz   \n",
       "1598550       4   RyanTrevMorris   \n",
       "\n",
       "                                                     Tweet         Date  \\\n",
       "0        @switchfoot http://twitpic.com/2y1zl - Awww, t...  06 Apr 2009   \n",
       "1        is upset that he can't update his Facebook by ...  06 Apr 2009   \n",
       "2        @Kenichan I dived many times for the ball. Man...  06 Apr 2009   \n",
       "3           my whole body feels itchy and like its on fire  06 Apr 2009   \n",
       "4        @nationwideclass no, it's not behaving at all....  06 Apr 2009   \n",
       "...                                                    ...          ...   \n",
       "1598546  Just woke up. Having no school is the best fee...  16 Jun 2009   \n",
       "1598547  TheWDB.com - Very cool to hear old Walt interv...  16 Jun 2009   \n",
       "1598548  Are you ready for your MoJo Makeover? Ask me f...  16 Jun 2009   \n",
       "1598549  Happy 38th Birthday to my boo of alll time!!! ...  16 Jun 2009   \n",
       "1598550  happy #charitytuesday @theNSPCC @SparksCharity...  16 Jun 2009   \n",
       "\n",
       "             Time  Tweet Length  \n",
       "0        22:19:45           115  \n",
       "1        22:19:49           111  \n",
       "2        22:19:53            89  \n",
       "3        22:19:57            47  \n",
       "4        22:19:57           111  \n",
       "...           ...           ...  \n",
       "1598546  08:40:49            56  \n",
       "1598547  08:40:49            76  \n",
       "1598548  08:40:49            57  \n",
       "1598549  08:40:49            65  \n",
       "1598550  08:40:50            62  \n",
       "\n",
       "[1598551 rows x 6 columns]"
      ]
     },
     "execution_count": 24,
     "metadata": {},
     "output_type": "execute_result"
    }
   ],
   "source": [
    "filepath_training = os.path.join(os.getcwd(),os.listdir()[3])\n",
    "train_data = pd.read_csv(filepath_training, error_bad_lines= False)\n",
    "train_data"
   ]
  },
  {
   "cell_type": "code",
   "execution_count": 25,
   "metadata": {},
   "outputs": [
    {
     "data": {
      "text/plain": [
       "(1598551, 6)"
      ]
     },
     "execution_count": 25,
     "metadata": {},
     "output_type": "execute_result"
    }
   ],
   "source": [
    "train_data.shape"
   ]
  },
  {
   "cell_type": "markdown",
   "metadata": {},
   "source": [
    "Boxplot of Tweet Length"
   ]
  },
  {
   "cell_type": "code",
   "execution_count": 26,
   "metadata": {},
   "outputs": [
    {
     "name": "stderr",
     "output_type": "stream",
     "text": [
      "C:\\Users\\ASUS\\AppData\\Local\\Programs\\Python\\Python38\\lib\\site-packages\\seaborn\\_decorators.py:36: FutureWarning: Pass the following variable as a keyword arg: x. From version 0.12, the only valid positional argument will be `data`, and passing other arguments without an explicit keyword will result in an error or misinterpretation.\n",
      "  warnings.warn(\n"
     ]
    },
    {
     "data": {
      "text/plain": [
       "<AxesSubplot:xlabel='Tweet Length'>"
      ]
     },
     "execution_count": 26,
     "metadata": {},
     "output_type": "execute_result"
    },
    {
     "data": {
      "image/png": "[encoded data removed]",
      "text/plain": [
       "<Figure size 432x288 with 1 Axes>"
      ]
     },
     "metadata": {
      "needs_background": "light"
     },
     "output_type": "display_data"
    }
   ],
   "source": [
    "sns.boxplot(train_data[\"Tweet Length\"])"
   ]
  },
  {
   "cell_type": "code",
   "execution_count": 43,
   "metadata": {},
   "outputs": [
    {
     "data": {
      "text/html": [
       "<div>\n",
       "<style scoped>\n",
       "    .dataframe tbody tr th:only-of-type {\n",
       "        vertical-align: middle;\n",
       "    }\n",
       "\n",
       "    .dataframe tbody tr th {\n",
       "        vertical-align: top;\n",
       "    }\n",
       "\n",
       "    .dataframe thead th {\n",
       "        text-align: right;\n",
       "    }\n",
       "</style>\n",
       "<table border=\"1\" class=\"dataframe\">\n",
       "  <thead>\n",
       "    <tr style=\"text-align: right;\">\n",
       "      <th></th>\n",
       "      <th>Target</th>\n",
       "      <th>UserID</th>\n",
       "      <th>Tweet</th>\n",
       "      <th>Date</th>\n",
       "      <th>Time</th>\n",
       "      <th>Tweet Length</th>\n",
       "    </tr>\n",
       "  </thead>\n",
       "  <tbody>\n",
       "    <tr>\n",
       "      <th>1171970</th>\n",
       "      <td>4</td>\n",
       "      <td>kraqur</td>\n",
       "      <td>I know pi to 12 digits.  &amp;quot;c&amp;quot;,&amp;quot;h...</td>\n",
       "      <td>31 May 2009</td>\n",
       "      <td>07:30:02</td>\n",
       "      <td>220</td>\n",
       "    </tr>\n",
       "    <tr>\n",
       "      <th>1179833</th>\n",
       "      <td>4</td>\n",
       "      <td>juanbarnard</td>\n",
       "      <td>@LyNn_4 &amp;quot;Human,&amp;quot; &amp;quot;Rehab,&amp;quot; ...</td>\n",
       "      <td>31 May 2009</td>\n",
       "      <td>10:21:27</td>\n",
       "      <td>226</td>\n",
       "    </tr>\n",
       "    <tr>\n",
       "      <th>1446358</th>\n",
       "      <td>4</td>\n",
       "      <td>karendee</td>\n",
       "      <td>Thriving Ivory's song &amp;quot;Twilight&amp;quot; &amp;gt...</td>\n",
       "      <td>06 Jun 2009</td>\n",
       "      <td>23:51:26</td>\n",
       "      <td>235</td>\n",
       "    </tr>\n",
       "    <tr>\n",
       "      <th>1496261</th>\n",
       "      <td>4</td>\n",
       "      <td>BanjoPickr</td>\n",
       "      <td>BROOKE - &amp;quot;frustrated&amp;quot;, &amp;quot;pissy&amp;q...</td>\n",
       "      <td>07 Jun 2009</td>\n",
       "      <td>17:40:22</td>\n",
       "      <td>227</td>\n",
       "    </tr>\n",
       "    <tr>\n",
       "      <th>1530878</th>\n",
       "      <td>4</td>\n",
       "      <td>odd_one_in</td>\n",
       "      <td>@curiousillusion Shoes, VERY important. And re...</td>\n",
       "      <td>15 Jun 2009</td>\n",
       "      <td>07:23:47</td>\n",
       "      <td>202</td>\n",
       "    </tr>\n",
       "    <tr>\n",
       "      <th>1581496</th>\n",
       "      <td>4</td>\n",
       "      <td>Dutchrudder</td>\n",
       "      <td>5 days till new top gear  �?��?��?��?��?��?��?...</td>\n",
       "      <td>16 Jun 2009</td>\n",
       "      <td>02:32:51</td>\n",
       "      <td>359</td>\n",
       "    </tr>\n",
       "  </tbody>\n",
       "</table>\n",
       "</div>"
      ],
      "text/plain": [
       "         Target       UserID  \\\n",
       "1171970       4       kraqur   \n",
       "1179833       4  juanbarnard   \n",
       "1446358       4     karendee   \n",
       "1496261       4   BanjoPickr   \n",
       "1530878       4   odd_one_in   \n",
       "1581496       4  Dutchrudder   \n",
       "\n",
       "                                                     Tweet         Date  \\\n",
       "1171970  I know pi to 12 digits.  &quot;c&quot;,&quot;h...  31 May 2009   \n",
       "1179833  @LyNn_4 &quot;Human,&quot; &quot;Rehab,&quot; ...  31 May 2009   \n",
       "1446358  Thriving Ivory's song &quot;Twilight&quot; &gt...  06 Jun 2009   \n",
       "1496261  BROOKE - &quot;frustrated&quot;, &quot;pissy&q...  07 Jun 2009   \n",
       "1530878  @curiousillusion Shoes, VERY important. And re...  15 Jun 2009   \n",
       "1581496  5 days till new top gear  �?��?��?��?��?��?��?...  16 Jun 2009   \n",
       "\n",
       "             Time  Tweet Length  \n",
       "1171970  07:30:02           220  \n",
       "1179833  10:21:27           226  \n",
       "1446358  23:51:26           235  \n",
       "1496261  17:40:22           227  \n",
       "1530878  07:23:47           202  \n",
       "1581496  02:32:51           359  "
      ]
     },
     "execution_count": 43,
     "metadata": {},
     "output_type": "execute_result"
    }
   ],
   "source": [
    "train_data.loc[train_data[\"Tweet Length\"] > 200]"
   ]
  },
  {
   "cell_type": "code",
   "execution_count": 45,
   "metadata": {},
   "outputs": [
    {
     "name": "stdout",
     "output_type": "stream",
     "text": [
      "5 days till new top gear  �?��?��?��?��?��?��?��?��?��?��?��?��?��?��?��?��?��?��?��?��?��?��?��?��?��?��?��?��?��?��?��?��?��?��?��?��?��?��?��?��?��?��?��?��?��?��?��?��?��?��?��?��?��?��?��?��?��?��?��?��?��?��?��?��?��?��?��?��?��?��?��?��?��?��?��?��?��?��?��?��?��?��?��?��?��?��?��?��?��?��?��?��?��?��?��?��?��?��?��?��?��?��?��?��?��?��?��?��?��?��?�\n"
     ]
    }
   ],
   "source": [
    "soup = BeautifulSoup(train_data.iloc[1581496,2],'html.parser')\n",
    "print(soup.get_text())"
   ]
  },
  {
   "cell_type": "code",
   "execution_count": 49,
   "metadata": {},
   "outputs": [
    {
     "data": {
      "text/plain": [
       "' Awww thats a bummer You shoulda got David Carr of Third Day to do it'"
      ]
     },
     "execution_count": 49,
     "metadata": {},
     "output_type": "execute_result"
    }
   ],
   "source": [
    "p.set_options(p.OPT.URL,p.OPT.MENTION,p.OPT.EMOJI,p.OPT.SMILEY)\n",
    "re.sub(r'[^\\w\\s\\d]','',p.clean(train_data.iloc[0,2]))"
   ]
  },
  {
   "cell_type": "code",
   "execution_count": 54,
   "metadata": {},
   "outputs": [
    {
     "data": {
      "text/plain": [
       "'Hindjdn sj'"
      ]
     },
     "execution_count": 54,
     "metadata": {},
     "output_type": "execute_result"
    }
   ],
   "source": [
    "re.sub(r'[^\\w\\s]','',\"Hi'ndjdn /$sj\")"
   ]
  },
  {
   "cell_type": "code",
   "execution_count": 67,
   "metadata": {},
   "outputs": [
    {
     "data": {
      "text/plain": [
       "['Awww',\n",
       " 'thats',\n",
       " 'a',\n",
       " 'bummer',\n",
       " 'You',\n",
       " 'shoulda',\n",
       " 'got',\n",
       " 'David',\n",
       " 'Carr',\n",
       " 'of',\n",
       " 'Third',\n",
       " 'Day',\n",
       " 'to',\n",
       " 'do',\n",
       " 'it']"
      ]
     },
     "execution_count": 67,
     "metadata": {},
     "output_type": "execute_result"
    }
   ],
   "source": [
    "from nltk.tokenize import TweetTokenizer\n",
    "from nltk.corpus import stopwords\n",
    "\n",
    "stop = stopwords.words('english')\n",
    "\n",
    "tok = TweetTokenizer()\n",
    "tok.tokenize(re.sub(r'[^\\w\\s]','',p.clean(train_data.iloc[0,2])))"
   ]
  },
  {
   "cell_type": "code",
   "execution_count": 66,
   "metadata": {},
   "outputs": [
    {
     "data": {
      "text/plain": [
       "['Happy',\n",
       " '38th',\n",
       " 'Birthday',\n",
       " 'to',\n",
       " 'my',\n",
       " 'boo',\n",
       " 'of',\n",
       " 'alll',\n",
       " 'time',\n",
       " 'Tupac',\n",
       " 'Amaru',\n",
       " 'Shakur']"
      ]
     },
     "execution_count": 66,
     "metadata": {},
     "output_type": "execute_result"
    }
   ],
   "source": [
    "tok.tokenize(re.sub(r'[^\\w\\s]','',p.clean(train_data.iloc[1598549,2])))"
   ]
  },
  {
   "cell_type": "code",
   "execution_count": 70,
   "metadata": {},
   "outputs": [
    {
     "data": {
      "text/plain": [
       "'Hi  gsfdvgbj IBDUB'"
      ]
     },
     "execution_count": 70,
     "metadata": {},
     "output_type": "execute_result"
    }
   ],
   "source": [
    "re.sub(r'[\\d]','',re.sub(r'[^\\w\\s]','','Hi 343213 gs234fdv44gbj &I@BDUB@&(('))"
   ]
  },
  {
   "cell_type": "code",
   "execution_count": 1,
   "metadata": {},
   "outputs": [],
   "source": [
    "import re"
   ]
  },
  {
   "cell_type": "code",
   "execution_count": 9,
   "metadata": {},
   "outputs": [
    {
     "data": {
      "text/plain": [
       "'## fff'"
      ]
     },
     "execution_count": 9,
     "metadata": {},
     "output_type": "execute_result"
    }
   ],
   "source": [
    "re.sub(r'@[A-Za-z0-9]+',\"\",'@AAD## fff')"
   ]
  },
  {
   "cell_type": "code",
   "execution_count": 20,
   "metadata": {},
   "outputs": [
    {
     "data": {
      "text/plain": [
       "''"
      ]
     },
     "execution_count": 20,
     "metadata": {},
     "output_type": "execute_result"
    }
   ],
   "source": [
    "re.sub(r'https?:\\/\\/[^\\s]+','','https://fceb.com')"
   ]
  },
  {
   "cell_type": "code",
   "execution_count": 24,
   "metadata": {},
   "outputs": [],
   "source": [
    "from nltk.tokenize import word_tokenize\n",
    "sent_list = ['Hi How are you?','What are you doing']\n",
    "string = \"\"\n",
    "word_list = [[word for word in word_tokenize(sent)] for sent in sent_list]\n",
    "for lst in word_list:\n",
    "    for word in lst:\n",
    "        string = string + word + \" \""
   ]
  },
  {
   "cell_type": "code",
   "execution_count": 25,
   "metadata": {},
   "outputs": [
    {
     "data": {
      "text/plain": [
       "'Hi How are you ? What are you doing '"
      ]
     },
     "execution_count": 25,
     "metadata": {},
     "output_type": "execute_result"
    }
   ],
   "source": [
    "string"
   ]
  },
  {
   "cell_type": "code",
   "execution_count": null,
   "metadata": {},
   "outputs": [],
   "source": []
  }
 ],
 "metadata": {
  "interpreter": {
   "hash": "965ba1120b0c101b3f715b6e258a73742ec1cf86f2c8b04492724c87d9f112c3"
  },
  "kernelspec": {
   "display_name": "Python 3.8.8 64-bit",
   "language": "python",
   "name": "python3"
  },
  "language_info": {
   "codemirror_mode": {
    "name": "ipython",
    "version": 3
   },
   "file_extension": ".py",
   "mimetype": "text/x-python",
   "name": "python",
   "nbconvert_exporter": "python",
   "pygments_lexer": "ipython3",
   "version": "3.8.8"
  },
  "orig_nbformat": 4
 },
 "nbformat": 4,
 "nbformat_minor": 2
}
